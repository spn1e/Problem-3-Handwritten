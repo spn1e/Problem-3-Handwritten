{
  "nbformat": 4,
  "nbformat_minor": 0,
  "metadata": {
    "colab": {
      "provenance": [],
      "gpuType": "T4"
    },
    "kernelspec": {
      "name": "python3",
      "display_name": "Python 3"
    },
    "language_info": {
      "name": "python"
    },
    "accelerator": "GPU"
  },
  "cells": [
    {
      "cell_type": "code",
      "execution_count": 1,
      "metadata": {
        "id": "XYId4Cs7B-Tz"
      },
      "outputs": [],
      "source": [
        "import torch, torch.nn as nn\n",
        "from torch.utils.data import DataLoader\n",
        "from torchvision import datasets, transforms\n",
        "from tqdm import tqdm\n",
        "\n",
        "DEVICE  = torch.device(\"cuda\" if torch.cuda.is_available() else \"cpu\")\n",
        "LATENT  = 100\n",
        "BATCH   = 128\n",
        "EPOCHS  = 30          # stops in ~25 min on a T4\n",
        "SMOOTH  = 0.9         # real-label smoothing\n"
      ]
    },
    {
      "cell_type": "code",
      "source": [
        "tfm = transforms.Compose([transforms.ToTensor(),\n",
        "                          transforms.Normalize((0.5,), (0.5,))])\n",
        "train_ds = datasets.MNIST(root=\"data\", train=True, download=True, transform=tfm)\n",
        "train_dl = DataLoader(train_ds, batch_size=BATCH, shuffle=True, num_workers=2)\n"
      ],
      "metadata": {
        "colab": {
          "base_uri": "https://localhost:8080/"
        },
        "id": "sDyFaQzKDJL6",
        "outputId": "b543147f-bf32-4cbc-ce5c-ce54425a9e78"
      },
      "execution_count": 2,
      "outputs": [
        {
          "output_type": "stream",
          "name": "stderr",
          "text": [
            "100%|██████████| 9.91M/9.91M [00:00<00:00, 11.4MB/s]\n",
            "100%|██████████| 28.9k/28.9k [00:00<00:00, 344kB/s]\n",
            "100%|██████████| 1.65M/1.65M [00:00<00:00, 3.18MB/s]\n",
            "100%|██████████| 4.54k/4.54k [00:00<00:00, 7.67MB/s]\n"
          ]
        }
      ]
    },
    {
      "cell_type": "code",
      "source": [
        "class Generator(nn.Module):\n",
        "    def __init__(self):\n",
        "        super().__init__()\n",
        "        self.embed = nn.Embedding(10, 50)\n",
        "        self.fc = nn.Sequential(\n",
        "            nn.Linear(LATENT + 50, 128*7*7),\n",
        "            nn.BatchNorm1d(128*7*7), nn.ReLU(True))\n",
        "        self.conv = nn.Sequential(\n",
        "            nn.ConvTranspose2d(128, 64, 4, 2, 1),  # 7→14\n",
        "            nn.BatchNorm2d(64), nn.ReLU(True),\n",
        "            nn.ConvTranspose2d(64, 1, 4, 2, 1),    # 14→28\n",
        "            nn.Tanh())\n",
        "    def forward(self, z, y):\n",
        "        x = torch.cat([z, self.embed(y)], 1)      # concat noise + label-emb\n",
        "        x = self.fc(x).view(-1, 128, 7, 7)\n",
        "        return self.conv(x)\n",
        "\n",
        "class Discriminator(nn.Module):\n",
        "    def __init__(self):\n",
        "        super().__init__()\n",
        "        self.embed = nn.Embedding(10, 28*28)\n",
        "        self.conv = nn.Sequential(\n",
        "            nn.Conv2d(2, 64, 4, 2, 1), nn.LeakyReLU(0.2, True),\n",
        "            nn.Conv2d(64, 128, 4, 2, 1), nn.BatchNorm2d(128),\n",
        "            nn.LeakyReLU(0.2, True),\n",
        "            nn.Flatten(),\n",
        "            nn.Linear(128*7*7, 1))\n",
        "    def forward(self, x, y):\n",
        "        yimg = self.embed(y).view(-1, 1, 28, 28)\n",
        "        x = torch.cat([x, yimg], 1)               # image-concat label mask\n",
        "        return self.conv(x)\n"
      ],
      "metadata": {
        "id": "AOkzlRzxDNy8"
      },
      "execution_count": 3,
      "outputs": []
    },
    {
      "cell_type": "code",
      "source": [
        "G, D = Generator().to(DEVICE), Discriminator().to(DEVICE)\n",
        "loss_fn = nn.BCEWithLogitsLoss()\n",
        "opt_G   = torch.optim.Adam(G.parameters(), lr=2e-4, betas=(0.5, 0.999))\n",
        "opt_D   = torch.optim.Adam(D.parameters(), lr=2e-4, betas=(0.5, 0.999))\n"
      ],
      "metadata": {
        "id": "ohTM_FCEDSO8"
      },
      "execution_count": 4,
      "outputs": []
    },
    {
      "cell_type": "code",
      "source": [
        "for epoch in range(EPOCHS):\n",
        "    for real, labels in tqdm(train_dl, leave=False):\n",
        "        real, labels = real.to(DEVICE), labels.to(DEVICE)\n",
        "        bs = real.size(0)\n",
        "\n",
        "        # ---- Train Discriminator ----\n",
        "        noise  = torch.randn(bs, LATENT, device=DEVICE)\n",
        "        fake   = G(noise, labels)\n",
        "        real_y = torch.full((bs,1), SMOOTH,  device=DEVICE)  # 0.9\n",
        "        fake_y = torch.zeros(bs,1, device=DEVICE)            # 0.0\n",
        "\n",
        "        D_real = D(real, labels)\n",
        "        D_fake = D(fake.detach(), labels)\n",
        "        loss_D = loss_fn(D_real, real_y) + loss_fn(D_fake, fake_y)\n",
        "\n",
        "        opt_D.zero_grad();  loss_D.backward();  opt_D.step()\n",
        "\n",
        "        # ---- Train Generator ----\n",
        "        trick = torch.ones(bs,1, device=DEVICE)              # wants D to say 'real'\n",
        "        D_fake_for_G = D(fake, labels)\n",
        "        loss_G = loss_fn(D_fake_for_G, trick)\n",
        "\n",
        "        opt_G.zero_grad();  loss_G.backward();  opt_G.step()\n",
        "\n",
        "    print(f\"Epoch {epoch+1}/{EPOCHS}  |  D: {loss_D.item():.3f}  G: {loss_G.item():.3f}\")\n"
      ],
      "metadata": {
        "colab": {
          "base_uri": "https://localhost:8080/"
        },
        "id": "bmeteoEVDUzz",
        "outputId": "3e12a3ec-c967-43bd-f7c6-7611ceb53428"
      },
      "execution_count": 5,
      "outputs": [
        {
          "output_type": "stream",
          "name": "stderr",
          "text": []
        },
        {
          "output_type": "stream",
          "name": "stdout",
          "text": [
            "Epoch 1/30  |  D: 0.920  G: 1.637\n"
          ]
        },
        {
          "output_type": "stream",
          "name": "stderr",
          "text": []
        },
        {
          "output_type": "stream",
          "name": "stdout",
          "text": [
            "Epoch 2/30  |  D: 0.927  G: 0.985\n"
          ]
        },
        {
          "output_type": "stream",
          "name": "stderr",
          "text": []
        },
        {
          "output_type": "stream",
          "name": "stdout",
          "text": [
            "Epoch 3/30  |  D: 0.927  G: 1.428\n"
          ]
        },
        {
          "output_type": "stream",
          "name": "stderr",
          "text": []
        },
        {
          "output_type": "stream",
          "name": "stdout",
          "text": [
            "Epoch 4/30  |  D: 1.013  G: 1.946\n"
          ]
        },
        {
          "output_type": "stream",
          "name": "stderr",
          "text": []
        },
        {
          "output_type": "stream",
          "name": "stdout",
          "text": [
            "Epoch 5/30  |  D: 1.016  G: 1.832\n"
          ]
        },
        {
          "output_type": "stream",
          "name": "stderr",
          "text": []
        },
        {
          "output_type": "stream",
          "name": "stdout",
          "text": [
            "Epoch 6/30  |  D: 1.121  G: 1.815\n"
          ]
        },
        {
          "output_type": "stream",
          "name": "stderr",
          "text": []
        },
        {
          "output_type": "stream",
          "name": "stdout",
          "text": [
            "Epoch 7/30  |  D: 1.038  G: 1.091\n"
          ]
        },
        {
          "output_type": "stream",
          "name": "stderr",
          "text": []
        },
        {
          "output_type": "stream",
          "name": "stdout",
          "text": [
            "Epoch 8/30  |  D: 1.073  G: 1.075\n"
          ]
        },
        {
          "output_type": "stream",
          "name": "stderr",
          "text": []
        },
        {
          "output_type": "stream",
          "name": "stdout",
          "text": [
            "Epoch 9/30  |  D: 0.983  G: 1.126\n"
          ]
        },
        {
          "output_type": "stream",
          "name": "stderr",
          "text": []
        },
        {
          "output_type": "stream",
          "name": "stdout",
          "text": [
            "Epoch 10/30  |  D: 0.977  G: 1.419\n"
          ]
        },
        {
          "output_type": "stream",
          "name": "stderr",
          "text": []
        },
        {
          "output_type": "stream",
          "name": "stdout",
          "text": [
            "Epoch 11/30  |  D: 1.175  G: 0.725\n"
          ]
        },
        {
          "output_type": "stream",
          "name": "stderr",
          "text": []
        },
        {
          "output_type": "stream",
          "name": "stdout",
          "text": [
            "Epoch 12/30  |  D: 1.032  G: 1.228\n"
          ]
        },
        {
          "output_type": "stream",
          "name": "stderr",
          "text": []
        },
        {
          "output_type": "stream",
          "name": "stdout",
          "text": [
            "Epoch 13/30  |  D: 1.077  G: 0.882\n"
          ]
        },
        {
          "output_type": "stream",
          "name": "stderr",
          "text": []
        },
        {
          "output_type": "stream",
          "name": "stdout",
          "text": [
            "Epoch 14/30  |  D: 1.191  G: 1.126\n"
          ]
        },
        {
          "output_type": "stream",
          "name": "stderr",
          "text": []
        },
        {
          "output_type": "stream",
          "name": "stdout",
          "text": [
            "Epoch 15/30  |  D: 1.202  G: 1.705\n"
          ]
        },
        {
          "output_type": "stream",
          "name": "stderr",
          "text": []
        },
        {
          "output_type": "stream",
          "name": "stdout",
          "text": [
            "Epoch 16/30  |  D: 1.009  G: 1.652\n"
          ]
        },
        {
          "output_type": "stream",
          "name": "stderr",
          "text": []
        },
        {
          "output_type": "stream",
          "name": "stdout",
          "text": [
            "Epoch 17/30  |  D: 1.241  G: 1.257\n"
          ]
        },
        {
          "output_type": "stream",
          "name": "stderr",
          "text": []
        },
        {
          "output_type": "stream",
          "name": "stdout",
          "text": [
            "Epoch 18/30  |  D: 1.037  G: 1.332\n"
          ]
        },
        {
          "output_type": "stream",
          "name": "stderr",
          "text": []
        },
        {
          "output_type": "stream",
          "name": "stdout",
          "text": [
            "Epoch 19/30  |  D: 1.123  G: 1.760\n"
          ]
        },
        {
          "output_type": "stream",
          "name": "stderr",
          "text": []
        },
        {
          "output_type": "stream",
          "name": "stdout",
          "text": [
            "Epoch 20/30  |  D: 0.993  G: 1.947\n"
          ]
        },
        {
          "output_type": "stream",
          "name": "stderr",
          "text": []
        },
        {
          "output_type": "stream",
          "name": "stdout",
          "text": [
            "Epoch 21/30  |  D: 1.072  G: 1.320\n"
          ]
        },
        {
          "output_type": "stream",
          "name": "stderr",
          "text": []
        },
        {
          "output_type": "stream",
          "name": "stdout",
          "text": [
            "Epoch 22/30  |  D: 1.077  G: 0.950\n"
          ]
        },
        {
          "output_type": "stream",
          "name": "stderr",
          "text": []
        },
        {
          "output_type": "stream",
          "name": "stdout",
          "text": [
            "Epoch 23/30  |  D: 1.106  G: 1.490\n"
          ]
        },
        {
          "output_type": "stream",
          "name": "stderr",
          "text": []
        },
        {
          "output_type": "stream",
          "name": "stdout",
          "text": [
            "Epoch 24/30  |  D: 1.096  G: 1.339\n"
          ]
        },
        {
          "output_type": "stream",
          "name": "stderr",
          "text": []
        },
        {
          "output_type": "stream",
          "name": "stdout",
          "text": [
            "Epoch 25/30  |  D: 1.081  G: 1.098\n"
          ]
        },
        {
          "output_type": "stream",
          "name": "stderr",
          "text": []
        },
        {
          "output_type": "stream",
          "name": "stdout",
          "text": [
            "Epoch 26/30  |  D: 0.937  G: 1.667\n"
          ]
        },
        {
          "output_type": "stream",
          "name": "stderr",
          "text": []
        },
        {
          "output_type": "stream",
          "name": "stdout",
          "text": [
            "Epoch 27/30  |  D: 1.048  G: 1.152\n"
          ]
        },
        {
          "output_type": "stream",
          "name": "stderr",
          "text": []
        },
        {
          "output_type": "stream",
          "name": "stdout",
          "text": [
            "Epoch 28/30  |  D: 1.229  G: 2.233\n"
          ]
        },
        {
          "output_type": "stream",
          "name": "stderr",
          "text": []
        },
        {
          "output_type": "stream",
          "name": "stdout",
          "text": [
            "Epoch 29/30  |  D: 0.924  G: 1.611\n"
          ]
        },
        {
          "output_type": "stream",
          "name": "stderr",
          "text": [
            "                                                 "
          ]
        },
        {
          "output_type": "stream",
          "name": "stdout",
          "text": [
            "Epoch 30/30  |  D: 0.971  G: 1.526\n"
          ]
        },
        {
          "output_type": "stream",
          "name": "stderr",
          "text": [
            "\r"
          ]
        }
      ]
    },
    {
      "cell_type": "code",
      "source": [
        "torch.save(G.state_dict(), \"cgan_mnist_G.pth\")     # ~5 MB\n"
      ],
      "metadata": {
        "id": "SYI73vGeFFnv"
      },
      "execution_count": 6,
      "outputs": []
    }
  ]
}